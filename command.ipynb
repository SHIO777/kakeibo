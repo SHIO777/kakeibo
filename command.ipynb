{
 "cells": [
  {
   "cell_type": "code",
   "execution_count": null,
   "metadata": {},
   "outputs": [],
   "source": [
    "category_list = [\"Transport\", \"Daily goods\", \"Food\"]\n",
    "description_list = [\"Train, Taxi, Bus, Airfares, Other\", \n",
    "                    \"Consumable, Child-related, Pet-related, Tobacco, Other\", \n",
    "                    \"Groceries, Cafe, Breakfast, Lunch, Dinner, Other\"]\n",
    "\n"
   ]
  },
  {
   "cell_type": "code",
   "execution_count": 2,
   "metadata": {},
   "outputs": [
    {
     "data": {
      "text/plain": [
       "'\\n// show routing table\\nsail php artisan route:list | grep tweet\\n\\n// show databases\\nsail mysql\\nshow databases;\\nshow tables from laratter;\\nuse laratter;\\nshow columns from tweets;\\n\\n// update css\\nsail npm run build\\n\\n    \\n'"
      ]
     },
     "execution_count": 2,
     "metadata": {},
     "output_type": "execute_result"
    }
   ],
   "source": [
    "# Command\n",
    "\"\"\"\n",
    "// show routing table\n",
    "sail php artisan route:list | grep tweet\n",
    "\n",
    "// show databases\n",
    "sail mysql\n",
    "show databases;\n",
    "show tables from laratter;\n",
    "use laratter;\n",
    "show columns from tweets;\n",
    "\n",
    "// update css\n",
    "sail npm run build\n",
    "\n",
    "\n",
    "cd resources/views\n",
    "mkdir tweet\n",
    "touch create.blade.php edit.blade.php index.blade.php show.blade.php\n",
    "cd ..\n",
    "cd ..\n",
    "cd ..\n",
    "\"\"\"\n"
   ]
  },
  {
   "cell_type": "code",
   "execution_count": null,
   "metadata": {},
   "outputs": [],
   "source": []
  }
 ],
 "metadata": {
  "kernelspec": {
   "display_name": "Python 3.9.12 ('base')",
   "language": "python",
   "name": "python3"
  },
  "language_info": {
   "codemirror_mode": {
    "name": "ipython",
    "version": 3
   },
   "file_extension": ".py",
   "mimetype": "text/x-python",
   "name": "python",
   "nbconvert_exporter": "python",
   "pygments_lexer": "ipython3",
   "version": "3.9.12"
  },
  "orig_nbformat": 4,
  "vscode": {
   "interpreter": {
    "hash": "b5c57e8338aefeca51f023e33ac242e22c20471a5fc1809c1ab7c63d9f7af9d7"
   }
  }
 },
 "nbformat": 4,
 "nbformat_minor": 2
}
